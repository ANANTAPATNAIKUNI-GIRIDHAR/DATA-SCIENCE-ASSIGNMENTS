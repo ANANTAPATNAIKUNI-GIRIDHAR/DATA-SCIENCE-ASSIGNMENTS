{
 "cells": [
  {
   "cell_type": "markdown",
   "id": "b1231378-e226-41e4-98a1-8451161b6fa2",
   "metadata": {},
   "source": [
    "# Q1. What are the characteristics of the tuples? Is tuple immutable?"
   ]
  },
  {
   "cell_type": "markdown",
   "id": "f2e721ab-a324-46a3-b9cd-d6c5489878c0",
   "metadata": {},
   "source": [
    "Ans) In Python, tuples are data structures that resemble lists, but they differ significantly in that tuples cannot be changed, while lists may. \n",
    "The following are some traits of tuples:\n",
    "\n",
    "Ordered: Tuples preserve the order in which elements are placed into them, just like lists do. A tuple's elements can be accessed using its index.\n",
    "\n",
    "Immutable: Once a tuple is formed, its contents cannot be altered. A tuple cannot have elements added, removed, or changed. Tuples are useful for \n",
    "            storing data that shouldn't be inadvertently altered because of their immutability.\n",
    "\n",
    "Heterogeneous: Elements of tuples may be of various data types, such as strings, numbers, lists, or even other tuples.\n",
    "\n",
    "Iterable: Just like with lists, you can iterate over a tuple's elements using a comprehension or loop.\n",
    "\n",
    "Indexed: You can access elements of a tuple using their index positions, similar to lists. The indexing starts from 0.\n",
    "\n",
    "Hashable: Tuples are hashable, which means they can be used as keys in dictionaries and as elements of sets.\n",
    "\n",
    "Memory efficient: Tuples consume less memory compared to lists because tuples are immutable, and Python can optimize memory allocation for them.\n",
    "\n",
    "In summary, tuples are immutable sequences of elements, ordered and indexed, making them suitable for situations where you need to store a fixed collection of items that should not change."
   ]
  },
  {
   "cell_type": "markdown",
   "id": "ccfd618c-8ba4-4ece-b11c-8022be914bd0",
   "metadata": {},
   "source": [
    "# Q2. What are the two tuple methods in python? Give an example of each method. Give a reason why tuples have only two in-built methods as compared to Lists.\n"
   ]
  },
  {
   "cell_type": "markdown",
   "id": "bb21993b-4971-4b0f-a770-d2dd7c8ca00a",
   "metadata": {},
   "source": [
    "In Python, tuples have two built-in methods:\n",
    "\n",
    "1. **count()**: This method returns the number of occurrences of a specified value in the tuple.\n",
    "\n",
    "    Example:\n",
    "    ```python\n",
    "    my_tuple = (1, 2, 3, 2, 4, 2)\n",
    "    count_of_twos = my_tuple.count(2)\n",
    "    print(count_of_twos)  # Output: 3\n",
    "    ```\n",
    "\n",
    "2. **index()**: This method returns the index of the first occurrence of a specified value in the tuple.\n",
    "\n",
    "    Example:\n",
    "    ```python\n",
    "    my_tuple = (1, 2, 3, 2, 4, 2)\n",
    "    index_of_three = my_tuple.index(3)\n",
    "    print(index_of_three)  # Output: 2\n",
    "    ```\n",
    "\n",
    "Tuples have only these two built-in methods compared to lists primarily because tuples are immutable, while lists are mutable. Because tuples cannot be changed after creation, there's no need for methods that modify the tuple. The limited number of methods simplifies the tuple's interface, keeping it lean and focused on its primary purpose of storing immutable sequences of elements.\n",
    "\n",
    "Lists, on the other hand, have a wider range of methods because they can be modified. Lists support operations such as appending, inserting, removing, and modifying elements, so they have methods to facilitate these operations. Therefore, lists have a richer set of built-in methods to accommodate their mutable nature and the operations commonly performed on them."
   ]
  },
  {
   "cell_type": "markdown",
   "id": "6b934407-7ae7-43b7-a6e7-bcd6aaf229a8",
   "metadata": {},
   "source": [
    "# Q3. Which collection datatypes in python do not allow duplicate items? Write a code using a set to remove duplicates from the given list.List = [1, 1, 1, 2, 1, 3, 1, 4, 2, 1, 2, 2, 2, 3, 2, 4, 3, 1, 3, 2, 3, 3, 3, 4, 4, 1, 4, 2, 4, 3, 4, 4]\n"
   ]
  },
  {
   "cell_type": "markdown",
   "id": "8b65c9eb-ac17-4778-b5c1-267fc5a22e68",
   "metadata": {},
   "source": [
    "Ans) In Python, the collection datatype that does not allow duplicate items is a set. Here's how you can use a set to remove duplicates from the given list:\n",
    "\n",
    "```python\n",
    "# Given list with duplicates\n",
    "my_list = [1, 1, 1, 2, 1, 3, 1, 4, 2, 1, 2, 2, 2, 3, 2, 4, 3, 1, 3, 2, 3, 3, 3, 4, 4, 1, 4, 2, 4, 3, 4, 4]\n",
    "\n",
    "# Convert the list to a set, which automatically removes duplicates\n",
    "unique_items = set(my_list)\n",
    "\n",
    "# Convert the set back to a list if needed\n",
    "unique_list = list(unique_items)\n",
    "\n",
    "print(unique_list)  # Output: [1, 2, 3, 4]\n",
    "```\n",
    "\n",
    "In this code:\n",
    "- `set(my_list)` creates a set from the given list `my_list`. Since sets do not allow duplicate elements, any duplicates in the original list are automatically removed.\n",
    "- If you need the result as a list again, you can convert the set back to a list using `list(unique_items)`."
   ]
  },
  {
   "cell_type": "markdown",
   "id": "528dfaf7-c513-403c-b874-761c9b027617",
   "metadata": {},
   "source": [
    "# Q4. Explain the difference between the union() and update() methods for a set. Give an example of each method."
   ]
  },
  {
   "cell_type": "markdown",
   "id": "e5cf6f66-b465-42cf-b387-d199957abe50",
   "metadata": {},
   "source": [
    "In Python, both `union()` and `update()` methods are used with sets, but they have different functionalities:\n",
    "\n",
    "1. **union() Method**:\n",
    "   - `union()` method returns a new set containing all the unique elements from both sets.\n",
    "   - It does not modify the original sets; instead, it returns a new set.\n",
    "   - It can take multiple sets as arguments.\n",
    "   \n",
    "   Example:\n",
    "   ```python\n",
    "   set1 = {1, 2, 3}\n",
    "   set2 = {3, 4, 5}\n",
    "   union_set = set1.union(set2)\n",
    "   print(union_set)  # Output: {1, 2, 3, 4, 5}\n",
    "   ```\n",
    "\n",
    "2. **update() Method**:\n",
    "   - `update()` method modifies the set on which it is called by adding elements from another iterable (such as another set, list, tuple, etc.).\n",
    "   - It modifies the original set in place and does not return anything (or returns `None`).\n",
    "   \n",
    "   Example:\n",
    "   ```python\n",
    "   set1 = {1, 2, 3}\n",
    "   set2 = {3, 4, 5}\n",
    "   set1.update(set2)\n",
    "   print(set1)  # Output: {1, 2, 3, 4, 5}\n",
    "   ```\n",
    "\n",
    "In summary, the key differences between `union()` and `update()` methods are:\n",
    "- `union()` returns a new set containing elements from both sets without modifying the original sets, while `update()` modifies the set in place by adding elements from another iterable.\n",
    "- `union()` does not take any arguments that directly modify the set, while `update()` requires an argument (another iterable) to add elements to the set."
   ]
  },
  {
   "cell_type": "markdown",
   "id": "a4067700-82c7-41e3-83ba-d28a6bad7e88",
   "metadata": {},
   "source": [
    "# Q5. What is a dictionary? Give an example. Also, state whether a dictionary is ordered or unordered."
   ]
  },
  {
   "cell_type": "markdown",
   "id": "4d4eac09-4b65-4c9c-b658-953c567723e2",
   "metadata": {},
   "source": [
    "Ans) A dictionary in Python is an unordered collection of key-value pairs. It is used to store data in the form of key-value pairs, where each key is unique and associated with a corresponding value. Dictionaries are often used when you need to store and retrieve data quickly based on a unique identifier (the key).\n",
    "\n",
    "Here's an example of a dictionary:\n",
    "\n",
    "```python\n",
    "# Creating a dictionary\n",
    "my_dict = {'apple': 3, 'banana': 6, 'orange': 4}\n",
    "\n",
    "# Accessing values using keys\n",
    "print(my_dict['apple'])  # Output: 3\n",
    "print(my_dict['banana'])  # Output: 6\n",
    "print(my_dict['orange'])  # Output: 4\n",
    "```\n",
    "\n",
    "In this example, `'apple'`, `'banana'`, and `'orange'` are keys, and `3`, `6`, and `4` are their corresponding values, respectively.\n",
    "\n",
    "A dictionary is an unordered collection, which means the order of items is not preserved. In Python versions prior to 3.7, dictionaries were unordered, meaning the order in which items were inserted was not maintained. However, starting from Python 3.7, dictionaries maintain the insertion order of their items, which means they are now effectively ordered. So, while dictionaries are ordered in recent Python versions, it's essential to note that this behavior is implementation-dependent and was officially guaranteed only from Python 3.7 onwards. For practical purposes, you can consider dictionaries to be ordered in Python 3.7 and later."
   ]
  },
  {
   "cell_type": "markdown",
   "id": "87e617c0-9cef-46b1-8088-f8a443870df4",
   "metadata": {},
   "source": [
    "# Q6. Can we create a nested dictionary? If so, please give an example by creating a simple one-level nested dictionary."
   ]
  },
  {
   "cell_type": "markdown",
   "id": "270be692-af5c-43fc-b6e8-5b8f6a3fa307",
   "metadata": {},
   "source": [
    "Ans) Yes, we can create a nested dictionary in Python. A nested dictionary is a dictionary where the values are also dictionaries. Here's an example of a simple one-level nested dictionary:\n",
    "\n",
    "```python\n",
    "# Creating a nested dictionary\n",
    "nested_dict = {\n",
    "    'person1': {'name': 'John', 'age': 30, 'city': 'New York'},\n",
    "    'person2': {'name': 'Alice', 'age': 25, 'city': 'Los Angeles'},\n",
    "    'person3': {'name': 'Bob', 'age': 35, 'city': 'Chicago'}\n",
    "}\n",
    "\n",
    "# Accessing values in the nested dictionary\n",
    "print(nested_dict['person1']['name'])  # Output: John\n",
    "print(nested_dict['person2']['age'])   # Output: 25\n",
    "print(nested_dict['person3']['city'])  # Output: Chicago\n",
    "```\n",
    "\n",
    "In this example, `nested_dict` is a dictionary where each key (`'person1'`, `'person2'`, `'person3'`) is associated with another dictionary containing information about a person (name, age, city). So, each value in the `nested_dict` is itself a dictionary. This is an example of a one-level nested dictionary, where the values are dictionaries."
   ]
  },
  {
   "cell_type": "markdown",
   "id": "fd3d55fb-3ff8-4a69-b292-9ff11bbfc53a",
   "metadata": {},
   "source": [
    "# Q7. Using setdefault() method, create key named topics in the given dictionary and also add the value of the key as this list ['Python', 'Machine Learning’, 'Deep Learning'] , dict1 = {'language' : 'Python', 'course': 'Data Science Masters'}"
   ]
  },
  {
   "cell_type": "markdown",
   "id": "4c20d3ba-4a8c-4008-b220-865853694e1e",
   "metadata": {},
   "source": [
    "Ans) You can use the `setdefault()` method to create a key named 'topics' in the given dictionary and assign the list ['Python', 'Machine Learning', 'Deep Learning'] as its value. Here's how you can do it:\n",
    "\n",
    "```python\n",
    "dict1 = {'language': 'Python', 'course': 'Data Science Masters'}\n",
    "\n",
    "# Using setdefault() to create the 'topics' key if it doesn't exist and assign the list as its value\n",
    "dict1.setdefault('topics', ['Python', 'Machine Learning', 'Deep Learning'])\n",
    "\n",
    "print(dict1)\n",
    "```\n",
    "\n",
    "Output:\n",
    "```\n",
    "{'language': 'Python', 'course': 'Data Science Masters', 'topics': ['Python', 'Machine Learning', 'Deep Learning']}\n",
    "```\n",
    "\n",
    "If the 'topics' key already exists in the dictionary, `setdefault()` won't change its value. If the 'topics' key doesn't exist, it will be added to the dictionary with the provided default value (the list ['Python', 'Machine Learning', 'Deep Learning'] in this case)."
   ]
  },
  {
   "cell_type": "markdown",
   "id": "3db324c9-2520-4a1b-9878-c0af1fa4be2e",
   "metadata": {},
   "source": [
    "# Q8. What are the three view objects in dictionaries? Use the three in-built methods in python to display these three view objects for the given dictionary. dict1 = {'Sport': 'Cricket' , 'Teams': ['India', 'Australia', 'England', 'South Africa', 'Sri Lanka', 'New Zealand']}"
   ]
  },
  {
   "cell_type": "markdown",
   "id": "9eb0bfd1-fdda-46ef-b6d9-9cbcc56941da",
   "metadata": {},
   "source": [
    "In Python dictionaries, there are three view objects:\n",
    "\n",
    "1. **dict_keys**: It represents a view of all keys in the dictionary.\n",
    "2. **dict_values**: It represents a view of all values in the dictionary.\n",
    "3. **dict_items**: It represents a view of all key-value pairs in the dictionary as tuples.\n",
    "\n",
    "Here's how you can use the three built-in methods to display these view objects for the given dictionary:\n",
    "\n",
    "```python\n",
    "dict1 = {'Sport': 'Cricket', 'Teams': ['India', 'Australia', 'England', 'South Africa', 'Sri Lanka', 'New Zealand']}\n",
    "\n",
    "# Get the view objects\n",
    "keys_view = dict1.keys()\n",
    "values_view = dict1.values()\n",
    "items_view = dict1.items()\n",
    "\n",
    "# Display the view objects\n",
    "print(\"Keys view:\", keys_view)\n",
    "print(\"Values view:\", values_view)\n",
    "print(\"Items view:\", items_view)\n",
    "```\n",
    "\n",
    "Output:\n",
    "```\n",
    "Keys view: dict_keys(['Sport', 'Teams'])\n",
    "Values view: dict_values(['Cricket', ['India', 'Australia', 'England', 'South Africa', 'Sri Lanka', 'New Zealand']])\n",
    "Items view: dict_items([('Sport', 'Cricket'), ('Teams', ['India', 'Australia', 'England', 'South Africa', 'Sri Lanka', 'New Zealand'])])\n",
    "```\n",
    "\n",
    "These view objects are dynamic, meaning they reflect the changes made to the original dictionary. So, if you modify the dictionary after creating these view objects, the view objects will reflect those changes automatically."
   ]
  },
  {
   "cell_type": "code",
   "execution_count": null,
   "id": "3d646daf-210d-4f8f-a1bf-ecebce2857db",
   "metadata": {},
   "outputs": [],
   "source": []
  }
 ],
 "metadata": {
  "kernelspec": {
   "display_name": "Python 3 (ipykernel)",
   "language": "python",
   "name": "python3"
  },
  "language_info": {
   "codemirror_mode": {
    "name": "ipython",
    "version": 3
   },
   "file_extension": ".py",
   "mimetype": "text/x-python",
   "name": "python",
   "nbconvert_exporter": "python",
   "pygments_lexer": "ipython3",
   "version": "3.10.8"
  }
 },
 "nbformat": 4,
 "nbformat_minor": 5
}
